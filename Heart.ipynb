{
 "cells": [
  {
   "cell_type": "code",
   "execution_count": 2,
   "id": "2749320e",
   "metadata": {},
   "outputs": [
    {
     "ename": "AttributeError",
     "evalue": "module 'matplotlib' has no attribute 'get_data_path'",
     "output_type": "error",
     "traceback": [
      "\u001b[1;31m---------------------------------------------------------------------------\u001b[0m",
      "\u001b[1;31mAttributeError\u001b[0m                            Traceback (most recent call last)",
      "Input \u001b[1;32mIn [2]\u001b[0m, in \u001b[0;36m<cell line: 3>\u001b[1;34m()\u001b[0m\n\u001b[0;32m      1\u001b[0m \u001b[38;5;28;01mimport\u001b[39;00m \u001b[38;5;21;01mpandas\u001b[39;00m \u001b[38;5;28;01mas\u001b[39;00m \u001b[38;5;21;01mpd\u001b[39;00m \n\u001b[0;32m      2\u001b[0m \u001b[38;5;28;01mimport\u001b[39;00m \u001b[38;5;21;01mnumpy\u001b[39;00m \u001b[38;5;28;01mas\u001b[39;00m \u001b[38;5;21;01mnp\u001b[39;00m\n\u001b[1;32m----> 3\u001b[0m \u001b[38;5;28;01mimport\u001b[39;00m \u001b[38;5;21;01mmatplotlib\u001b[39;00m\u001b[38;5;21;01m.\u001b[39;00m\u001b[38;5;21;01mpyplot\u001b[39;00m \u001b[38;5;28;01mas\u001b[39;00m \u001b[38;5;21;01mplt\u001b[39;00m\n\u001b[0;32m      4\u001b[0m \u001b[38;5;28;01mimport\u001b[39;00m \u001b[38;5;21;01mseaborn\u001b[39;00m \u001b[38;5;28;01mas\u001b[39;00m \u001b[38;5;21;01msns\u001b[39;00m \n\u001b[0;32m      5\u001b[0m \u001b[38;5;28;01mimport\u001b[39;00m \u001b[38;5;21;01mwarnings\u001b[39;00m\n",
      "File \u001b[1;32m~\\anaconda3\\envs\\envs\\lib\\site-packages\\matplotlib\\__init__.py:877\u001b[0m, in \u001b[0;36m<module>\u001b[1;34m\u001b[0m\n\u001b[0;32m    870\u001b[0m     \u001b[38;5;28;01mreturn\u001b[39;00m config\n\u001b[0;32m    873\u001b[0m \u001b[38;5;66;03m# When constructing the global instances, we need to perform certain updates\u001b[39;00m\n\u001b[0;32m    874\u001b[0m \u001b[38;5;66;03m# by explicitly calling the superclass (dict.update, dict.items) to avoid\u001b[39;00m\n\u001b[0;32m    875\u001b[0m \u001b[38;5;66;03m# triggering resolution of _auto_backend_sentinel.\u001b[39;00m\n\u001b[0;32m    876\u001b[0m rcParamsDefault \u001b[38;5;241m=\u001b[39m _rc_params_in_file(\n\u001b[1;32m--> 877\u001b[0m     \u001b[43mcbook\u001b[49m\u001b[38;5;241;43m.\u001b[39;49m\u001b[43m_get_data_path\u001b[49m\u001b[43m(\u001b[49m\u001b[38;5;124;43m\"\u001b[39;49m\u001b[38;5;124;43mmatplotlibrc\u001b[39;49m\u001b[38;5;124;43m\"\u001b[39;49m\u001b[43m)\u001b[49m,\n\u001b[0;32m    878\u001b[0m     \u001b[38;5;66;03m# Strip leading comment.\u001b[39;00m\n\u001b[0;32m    879\u001b[0m     transform\u001b[38;5;241m=\u001b[39m\u001b[38;5;28;01mlambda\u001b[39;00m line: line[\u001b[38;5;241m1\u001b[39m:] \u001b[38;5;28;01mif\u001b[39;00m line\u001b[38;5;241m.\u001b[39mstartswith(\u001b[38;5;124m\"\u001b[39m\u001b[38;5;124m#\u001b[39m\u001b[38;5;124m\"\u001b[39m) \u001b[38;5;28;01melse\u001b[39;00m line,\n\u001b[0;32m    880\u001b[0m     fail_on_error\u001b[38;5;241m=\u001b[39m\u001b[38;5;28;01mTrue\u001b[39;00m)\n\u001b[0;32m    881\u001b[0m \u001b[38;5;28mdict\u001b[39m\u001b[38;5;241m.\u001b[39mupdate(rcParamsDefault, rcsetup\u001b[38;5;241m.\u001b[39m_hardcoded_defaults)\n\u001b[0;32m    882\u001b[0m \u001b[38;5;66;03m# Normally, the default matplotlibrc file contains *no* entry for backend (the\u001b[39;00m\n\u001b[0;32m    883\u001b[0m \u001b[38;5;66;03m# corresponding line starts with ##, not #; we fill on _auto_backend_sentinel\u001b[39;00m\n\u001b[0;32m    884\u001b[0m \u001b[38;5;66;03m# in that case.  However, packagers can set a different default backend\u001b[39;00m\n\u001b[0;32m    885\u001b[0m \u001b[38;5;66;03m# (resulting in a normal `#backend: foo` line) in which case we should *not*\u001b[39;00m\n\u001b[0;32m    886\u001b[0m \u001b[38;5;66;03m# fill in _auto_backend_sentinel.\u001b[39;00m\n",
      "File \u001b[1;32m~\\anaconda3\\envs\\envs\\lib\\site-packages\\matplotlib\\cbook\\__init__.py:518\u001b[0m, in \u001b[0;36m_get_data_path\u001b[1;34m(*args)\u001b[0m\n\u001b[0;32m    512\u001b[0m \u001b[38;5;28;01mdef\u001b[39;00m \u001b[38;5;21m_get_data_path\u001b[39m(\u001b[38;5;241m*\u001b[39margs):\n\u001b[0;32m    513\u001b[0m     \u001b[38;5;124;03m\"\"\"\u001b[39;00m\n\u001b[0;32m    514\u001b[0m \u001b[38;5;124;03m    Return the `pathlib.Path` to a resource file provided by Matplotlib.\u001b[39;00m\n\u001b[0;32m    515\u001b[0m \n\u001b[0;32m    516\u001b[0m \u001b[38;5;124;03m    ``*args`` specify a path relative to the base data path.\u001b[39;00m\n\u001b[0;32m    517\u001b[0m \u001b[38;5;124;03m    \"\"\"\u001b[39;00m\n\u001b[1;32m--> 518\u001b[0m     \u001b[38;5;28;01mreturn\u001b[39;00m Path(\u001b[43mmatplotlib\u001b[49m\u001b[38;5;241;43m.\u001b[39;49m\u001b[43mget_data_path\u001b[49m(), \u001b[38;5;241m*\u001b[39margs)\n",
      "\u001b[1;31mAttributeError\u001b[0m: module 'matplotlib' has no attribute 'get_data_path'"
     ]
    }
   ],
   "source": [
    "import pandas as pd \n",
    "import numpy as np\n",
    "import matplotlib.pyplot as plt\n",
    "import seaborn as sns \n",
    "import warnings\n",
    "warnings.filterwarnings('ignore')"
   ]
  },
  {
   "cell_type": "code",
   "execution_count": null,
   "id": "b03c2f2d",
   "metadata": {},
   "outputs": [],
   "source": [
    "df=pd.read_csv('heart.csv')\n",
    "df"
   ]
  },
  {
   "cell_type": "code",
   "execution_count": null,
   "id": "6da81aaf",
   "metadata": {},
   "outputs": [],
   "source": [
    "df.info()"
   ]
  },
  {
   "cell_type": "markdown",
   "id": "cea80b1e",
   "metadata": {},
   "source": [
    "# age "
   ]
  },
  {
   "cell_type": "code",
   "execution_count": null,
   "id": "26936587",
   "metadata": {},
   "outputs": [],
   "source": [
    "df['age'].describe()"
   ]
  },
  {
   "cell_type": "code",
   "execution_count": null,
   "id": "106d1aa5",
   "metadata": {},
   "outputs": [],
   "source": [
    "sns.boxplot(x=df['age'])"
   ]
  },
  {
   "cell_type": "markdown",
   "id": "e3fd6df0",
   "metadata": {},
   "source": [
    "# sex"
   ]
  },
  {
   "cell_type": "code",
   "execution_count": null,
   "id": "a28f1d8b",
   "metadata": {},
   "outputs": [],
   "source": [
    "df['sex'].describe()"
   ]
  },
  {
   "cell_type": "code",
   "execution_count": null,
   "id": "f7a02e9f",
   "metadata": {},
   "outputs": [],
   "source": [
    "df['sex'].value_counts()"
   ]
  },
  {
   "cell_type": "code",
   "execution_count": null,
   "id": "abe72434",
   "metadata": {},
   "outputs": [],
   "source": [
    "sns.boxplot(x=df['sex'])"
   ]
  },
  {
   "cell_type": "markdown",
   "id": "c4da8791",
   "metadata": {},
   "source": [
    "# cp "
   ]
  },
  {
   "cell_type": "code",
   "execution_count": null,
   "id": "37c1167a",
   "metadata": {},
   "outputs": [],
   "source": [
    "df['sex'].describe()"
   ]
  },
  {
   "cell_type": "code",
   "execution_count": null,
   "id": "f7bb563f",
   "metadata": {},
   "outputs": [],
   "source": [
    "df['cp'].value_counts()"
   ]
  },
  {
   "cell_type": "code",
   "execution_count": null,
   "id": "662384a6",
   "metadata": {},
   "outputs": [],
   "source": [
    "sns.boxplot(x=df['cp'])"
   ]
  },
  {
   "cell_type": "markdown",
   "id": "acd10ecd",
   "metadata": {},
   "source": [
    "# trestbps "
   ]
  },
  {
   "cell_type": "code",
   "execution_count": null,
   "id": "704b8dba",
   "metadata": {},
   "outputs": [],
   "source": [
    "df['trestbps'].value_counts()"
   ]
  },
  {
   "cell_type": "code",
   "execution_count": null,
   "id": "107ba7e2",
   "metadata": {},
   "outputs": [],
   "source": [
    "sns.boxplot(x=df['trestbps'])"
   ]
  },
  {
   "cell_type": "code",
   "execution_count": null,
   "id": "e694b552",
   "metadata": {},
   "outputs": [],
   "source": [
    "df['trestbps'].describe()"
   ]
  },
  {
   "cell_type": "code",
   "execution_count": null,
   "id": "e2fc8975",
   "metadata": {},
   "outputs": [],
   "source": [
    "q1 = df['trestbps'].quantile(0.25)\n",
    "q3 = df['trestbps'].quantile(0.75)\n",
    "\n",
    "IQR = q3-q1\n",
    "\n",
    "upper_limit = q3 + 3*IQR\n",
    "lower_limit = q1 - 3*IQR"
   ]
  },
  {
   "cell_type": "code",
   "execution_count": null,
   "id": "ef61afc1",
   "metadata": {},
   "outputs": [],
   "source": [
    "upper_limit"
   ]
  },
  {
   "cell_type": "markdown",
   "id": "031ff453",
   "metadata": {},
   "source": [
    "# chol"
   ]
  },
  {
   "cell_type": "code",
   "execution_count": null,
   "id": "3a7c99a1",
   "metadata": {},
   "outputs": [],
   "source": [
    "df"
   ]
  },
  {
   "cell_type": "code",
   "execution_count": null,
   "id": "fe096593",
   "metadata": {},
   "outputs": [],
   "source": [
    "df.info()"
   ]
  },
  {
   "cell_type": "markdown",
   "id": "81374f07",
   "metadata": {},
   "source": [
    "# 6.fbs"
   ]
  },
  {
   "cell_type": "code",
   "execution_count": null,
   "id": "2bce3df8",
   "metadata": {},
   "outputs": [],
   "source": [
    "df['fbs'].value_counts()"
   ]
  },
  {
   "cell_type": "code",
   "execution_count": null,
   "id": "8e942898",
   "metadata": {},
   "outputs": [],
   "source": [
    "#df.info()"
   ]
  },
  {
   "cell_type": "markdown",
   "id": "1f4ac61f",
   "metadata": {},
   "source": [
    "# 7. restecg"
   ]
  },
  {
   "cell_type": "code",
   "execution_count": null,
   "id": "ab364300",
   "metadata": {},
   "outputs": [],
   "source": [
    "df['restecg'].value_counts()"
   ]
  },
  {
   "cell_type": "code",
   "execution_count": null,
   "id": "55bd374c",
   "metadata": {},
   "outputs": [],
   "source": [
    "#df.info()"
   ]
  },
  {
   "cell_type": "markdown",
   "id": "ad2fd3f9",
   "metadata": {},
   "source": [
    "# 8.thalach"
   ]
  },
  {
   "cell_type": "code",
   "execution_count": null,
   "id": "1e86c2d3",
   "metadata": {},
   "outputs": [],
   "source": [
    "df['thalach']"
   ]
  },
  {
   "cell_type": "code",
   "execution_count": null,
   "id": "9556b753",
   "metadata": {},
   "outputs": [],
   "source": [
    "sns.boxplot(df['thalach'])"
   ]
  },
  {
   "cell_type": "code",
   "execution_count": null,
   "id": "c87396d6",
   "metadata": {},
   "outputs": [],
   "source": [
    "q1 = df['thalach'].quantile(0.25)\n",
    "q3 = df['thalach'].quantile(0.75)\n",
    "\n",
    "IQR = q3-q1\n",
    "lower_limit = q1 - 1.5*IQR\n",
    "lower_limit"
   ]
  },
  {
   "cell_type": "code",
   "execution_count": null,
   "id": "806d7940",
   "metadata": {},
   "outputs": [],
   "source": [
    "df.loc[(df['thalach']<lower_limit),'thalach']=lower_limit"
   ]
  },
  {
   "cell_type": "code",
   "execution_count": null,
   "id": "a009679e",
   "metadata": {},
   "outputs": [],
   "source": [
    "# after rem out\n",
    "sns.boxplot(df['thalach'])"
   ]
  },
  {
   "cell_type": "code",
   "execution_count": null,
   "id": "47b95109",
   "metadata": {},
   "outputs": [],
   "source": [
    "#df.info()"
   ]
  },
  {
   "cell_type": "markdown",
   "id": "c7afe6dc",
   "metadata": {},
   "source": [
    "# 9.exang"
   ]
  },
  {
   "cell_type": "code",
   "execution_count": null,
   "id": "1ffbfb33",
   "metadata": {},
   "outputs": [],
   "source": [
    "df['exang'].value_counts()"
   ]
  },
  {
   "cell_type": "code",
   "execution_count": null,
   "id": "6c49f350",
   "metadata": {},
   "outputs": [],
   "source": [
    "df.info()"
   ]
  },
  {
   "cell_type": "markdown",
   "id": "12462972",
   "metadata": {},
   "source": [
    "# oldpeak"
   ]
  },
  {
   "cell_type": "code",
   "execution_count": null,
   "id": "c6fe4330",
   "metadata": {},
   "outputs": [],
   "source": [
    "sns.boxplot(df['oldpeak'])"
   ]
  },
  {
   "cell_type": "code",
   "execution_count": null,
   "id": "c10bbdb9",
   "metadata": {},
   "outputs": [],
   "source": [
    "q1 = df['oldpeak'].quantile(0.25)\n",
    "q3 = df['oldpeak'].quantile(0.75)\n",
    "\n",
    "IQR = q3-q1\n",
    "lower_limit = q1 - 1.5*IQR\n",
    "upper_limit =q3+1.5*IQR\n",
    "upper_limit\n"
   ]
  },
  {
   "cell_type": "code",
   "execution_count": null,
   "id": "b6270ca1",
   "metadata": {},
   "outputs": [],
   "source": [
    "df['oldpeak'].loc[df['oldpeak']>upper_limit]"
   ]
  },
  {
   "cell_type": "code",
   "execution_count": null,
   "id": "d11940bc",
   "metadata": {},
   "outputs": [],
   "source": [
    "df.loc[(df['oldpeak']>upper_limit),'oldpeak']=upper_limit"
   ]
  },
  {
   "cell_type": "code",
   "execution_count": null,
   "id": "84b14ccd",
   "metadata": {},
   "outputs": [],
   "source": [
    "sns.boxplot(df['oldpeak'])"
   ]
  },
  {
   "cell_type": "code",
   "execution_count": null,
   "id": "665e7f8c",
   "metadata": {},
   "outputs": [],
   "source": [
    "# df.info()"
   ]
  },
  {
   "cell_type": "markdown",
   "id": "71ab9cf0",
   "metadata": {},
   "source": [
    "# slope"
   ]
  },
  {
   "cell_type": "code",
   "execution_count": null,
   "id": "3b2a360a",
   "metadata": {},
   "outputs": [],
   "source": [
    "sns.boxplot(df['slope'])"
   ]
  },
  {
   "cell_type": "markdown",
   "id": "a3a14332",
   "metadata": {},
   "source": [
    "# ca"
   ]
  },
  {
   "cell_type": "code",
   "execution_count": null,
   "id": "44ffe145",
   "metadata": {},
   "outputs": [],
   "source": [
    "sns.boxplot(df['ca'])"
   ]
  },
  {
   "cell_type": "code",
   "execution_count": null,
   "id": "0ae0af1e",
   "metadata": {},
   "outputs": [],
   "source": [
    "q1 = df['ca'].quantile(0.25)\n",
    "q3 = df['ca'].quantile(0.75)\n",
    "\n",
    "IQR = q3-q1\n",
    "lower_limit = q1 - 1.5*IQR\n",
    "upper_limit =q3+1.5*IQR\n",
    "upper_limit\n"
   ]
  },
  {
   "cell_type": "code",
   "execution_count": null,
   "id": "dfdb6f7e",
   "metadata": {},
   "outputs": [],
   "source": [
    "df['ca'].loc[df['ca']>upper_limit]"
   ]
  },
  {
   "cell_type": "code",
   "execution_count": null,
   "id": "ee49eff1",
   "metadata": {},
   "outputs": [],
   "source": [
    "df.loc[(df['ca']>upper_limit),'ca']=upper_limit"
   ]
  },
  {
   "cell_type": "code",
   "execution_count": null,
   "id": "14ea13cb",
   "metadata": {},
   "outputs": [],
   "source": [
    "# df.info()"
   ]
  },
  {
   "cell_type": "markdown",
   "id": "d5c5b298",
   "metadata": {},
   "source": [
    "# thal"
   ]
  },
  {
   "cell_type": "code",
   "execution_count": null,
   "id": "8990a3f5",
   "metadata": {},
   "outputs": [],
   "source": [
    "sns.boxplot(df['thal'])"
   ]
  },
  {
   "cell_type": "code",
   "execution_count": null,
   "id": "fbdac6b6",
   "metadata": {},
   "outputs": [],
   "source": [
    "q1 = df['thal'].quantile(0.25)\n",
    "q3 = df['thal'].quantile(0.75)\n",
    "\n",
    "IQR = q3-q1\n",
    "lower_limit = q1 - 1.5*IQR\n",
    "upper_limit =q3+1.5*IQR\n",
    "lower_limit"
   ]
  },
  {
   "cell_type": "code",
   "execution_count": null,
   "id": "8483a933",
   "metadata": {},
   "outputs": [],
   "source": [
    "df['thal'].loc[df['thal']<lower_limit]"
   ]
  },
  {
   "cell_type": "code",
   "execution_count": null,
   "id": "a88e1dd6",
   "metadata": {},
   "outputs": [],
   "source": [
    "df.loc[(df['thal']<lower_limit),'thal']=lower_limit"
   ]
  },
  {
   "cell_type": "markdown",
   "id": "5e0f5edb",
   "metadata": {},
   "source": [
    "# Model traning "
   ]
  },
  {
   "cell_type": "code",
   "execution_count": null,
   "id": "62152d06",
   "metadata": {},
   "outputs": [],
   "source": [
    "df"
   ]
  },
  {
   "cell_type": "code",
   "execution_count": null,
   "id": "a66d332b",
   "metadata": {},
   "outputs": [],
   "source": [
    "# we can consider these value_counts\n",
    "\n",
    "df.target.value_counts()"
   ]
  },
  {
   "cell_type": "code",
   "execution_count": null,
   "id": "0eb112e2",
   "metadata": {},
   "outputs": [],
   "source": [
    "x = df.drop('target',axis=1)\n",
    "y = df['target']"
   ]
  },
  {
   "cell_type": "code",
   "execution_count": null,
   "id": "06a4d882",
   "metadata": {},
   "outputs": [],
   "source": [
    "from imblearn.over_sampling import RandomOverSampler\n",
    "random_oversampler = RandomOverSampler()\n",
    "x, y = random_oversampler.fit_resample(x,y)"
   ]
  },
  {
   "cell_type": "code",
   "execution_count": null,
   "id": "85f00b03",
   "metadata": {},
   "outputs": [],
   "source": [
    "y.value_counts()"
   ]
  },
  {
   "cell_type": "code",
   "execution_count": null,
   "id": "9f21788e",
   "metadata": {},
   "outputs": [],
   "source": []
  },
  {
   "cell_type": "code",
   "execution_count": null,
   "id": "453ade00",
   "metadata": {},
   "outputs": [],
   "source": [
    "from sklearn.model_selection import train_test_split,GridSearchCV,RandomizedSearchCV\n",
    "from sklearn.preprocessing import MinMaxScaler\n",
    "from sklearn.linear_model import LogisticRegression\n",
    "from sklearn.neighbors import KNeighborsClassifier\n",
    "from sklearn.tree import DecisionTreeClassifier\n",
    "from sklearn.ensemble import RandomForestClassifier,AdaBoostClassifier\n",
    "from sklearn.naive_bayes import GaussianNB,MultinomialNB,BernoulliNB\n",
    "from sklearn.metrics import classification_report,confusion_matrix,accuracy_score"
   ]
  },
  {
   "cell_type": "code",
   "execution_count": null,
   "id": "40edb803",
   "metadata": {},
   "outputs": [],
   "source": [
    "x_train,x_test,y_train,y_test = train_test_split(x,y,test_size=0.2,random_state=5,stratify=y)"
   ]
  },
  {
   "cell_type": "markdown",
   "id": "a4e95770",
   "metadata": {},
   "source": [
    "# Logistic Regression"
   ]
  },
  {
   "cell_type": "code",
   "execution_count": null,
   "id": "912f9cce",
   "metadata": {},
   "outputs": [],
   "source": [
    "logistic = LogisticRegression()\n",
    "logistic.fit(x_train,y_train)"
   ]
  },
  {
   "cell_type": "code",
   "execution_count": null,
   "id": "87626862",
   "metadata": {},
   "outputs": [],
   "source": [
    "# Testing Data\n",
    "\n",
    "y_pred_test = logistic.predict(x_test)\n",
    "\n",
    "con_metrics = confusion_matrix(y_test,y_pred_test)\n",
    "print('con_metrics : \\n',con_metrics)\n",
    "print()\n",
    "classi_report = classification_report(y_test,y_pred_test)\n",
    "print('classi_report : \\n',classi_report)"
   ]
  },
  {
   "cell_type": "code",
   "execution_count": null,
   "id": "699619d1",
   "metadata": {},
   "outputs": [],
   "source": [
    "# Training Data\n",
    "\n",
    "y_pred_train = logistic.predict(x_train)\n",
    "\n",
    "con_metrics = confusion_matrix(y_train,y_pred_train)\n",
    "print('con_metrics : \\n',con_metrics)\n",
    "print()\n",
    "classi_report = classification_report(y_train,y_pred_train)\n",
    "print('classi_report : \\n',classi_report)"
   ]
  },
  {
   "cell_type": "markdown",
   "id": "08d5076c",
   "metadata": {},
   "source": [
    "# KNN Without Hyperparameter Tunning"
   ]
  },
  {
   "cell_type": "code",
   "execution_count": null,
   "id": "e29383b2",
   "metadata": {},
   "outputs": [],
   "source": [
    "df1=pd.read_csv('heart.csv')\n",
    "df1"
   ]
  },
  {
   "cell_type": "code",
   "execution_count": null,
   "id": "499b04d7",
   "metadata": {},
   "outputs": [],
   "source": [
    "X = df1.drop('target',axis=1)\n",
    "Y = df1['target']"
   ]
  },
  {
   "cell_type": "code",
   "execution_count": null,
   "id": "f8c69498",
   "metadata": {},
   "outputs": [],
   "source": [
    "minmax = MinMaxScaler()\n",
    "x_fit = minmax.fit_transform(X)\n",
    "x_minmax = pd.DataFrame(x_fit,columns=X.columns)"
   ]
  },
  {
   "cell_type": "code",
   "execution_count": null,
   "id": "03500143",
   "metadata": {},
   "outputs": [],
   "source": [
    "x_minmax"
   ]
  },
  {
   "cell_type": "code",
   "execution_count": null,
   "id": "2ee2eab0",
   "metadata": {},
   "outputs": [],
   "source": [
    "X_train,X_test,Y_train,Y_test = train_test_split(x_minmax,Y,test_size=0.2,random_state=5,stratify=Y)"
   ]
  },
  {
   "cell_type": "code",
   "execution_count": null,
   "id": "2ffebcf9",
   "metadata": {},
   "outputs": [],
   "source": [
    "Y.value_counts()"
   ]
  },
  {
   "cell_type": "code",
   "execution_count": null,
   "id": "f03a61e4",
   "metadata": {},
   "outputs": [],
   "source": [
    "knn = KNeighborsClassifier()\n",
    "knn.fit(X_train,Y_train)"
   ]
  },
  {
   "cell_type": "code",
   "execution_count": null,
   "id": "37c6529a",
   "metadata": {},
   "outputs": [],
   "source": [
    "# Testing Data\n",
    "\n",
    "Y_pred_test = knn.predict(X_test)\n",
    "\n",
    "con_metrics = confusion_matrix(Y_test,Y_pred_test)\n",
    "print('con_metrics : \\n',con_metrics)\n",
    "print()\n",
    "classi_report = classification_report(Y_test,Y_pred_test)\n",
    "print('classi_report : \\n',classi_report)"
   ]
  },
  {
   "cell_type": "code",
   "execution_count": null,
   "id": "7c898101",
   "metadata": {},
   "outputs": [],
   "source": [
    "# Training Data\n",
    "\n",
    "Y_pred_train = knn.predict(X_train)\n",
    "\n",
    "con_metrics = confusion_matrix(Y_train,Y_pred_train)\n",
    "print('con_metrics : \\n',con_metrics)\n",
    "print()\n",
    "classi_report = classification_report(Y_train,Y_pred_train)\n",
    "print('classi_report : \\n',classi_report)"
   ]
  },
  {
   "cell_type": "markdown",
   "id": "5c48f141",
   "metadata": {},
   "source": [
    "# KNN With Hyperparameter Tunning"
   ]
  },
  {
   "cell_type": "code",
   "execution_count": null,
   "id": "4a613681",
   "metadata": {},
   "outputs": [],
   "source": [
    "knn_hyp = KNeighborsClassifier()\n",
    "\n",
    "hyp = {\n",
    "    'n_neighbors':np.arange(5,100,5),\n",
    "    'p':[1,2],\n",
    "}\n",
    "knn_rscv = RandomizedSearchCV(knn_hyp,hyp,cv=10)\n",
    "knn_rscv.fit(X_train,Y_train)"
   ]
  },
  {
   "cell_type": "code",
   "execution_count": null,
   "id": "fed4ba97",
   "metadata": {},
   "outputs": [],
   "source": [
    "knn_rscv.best_estimator_"
   ]
  },
  {
   "cell_type": "code",
   "execution_count": null,
   "id": "7af08799",
   "metadata": {},
   "outputs": [],
   "source": [
    "# Testing Data\n",
    "\n",
    "Y_pred_test = knn_rscv.predict(X_test)\n",
    "\n",
    "con_metrics = confusion_matrix(Y_test,Y_pred_test)\n",
    "print('con_metrics : \\n',con_metrics)\n",
    "print()\n",
    "classi_report = classification_report(Y_test,Y_pred_test)\n",
    "print('classi_report : \\n',classi_report)"
   ]
  },
  {
   "cell_type": "code",
   "execution_count": null,
   "id": "9f3df24c",
   "metadata": {},
   "outputs": [],
   "source": [
    "# Training Data\n",
    "\n",
    "Y_pred_train = knn_rscv.predict(X_train)\n",
    "\n",
    "con_metrics = confusion_matrix(Y_train,Y_pred_train)\n",
    "print('con_metrics : \\n',con_metrics)\n",
    "print()\n",
    "classi_report = classification_report(Y_train,Y_pred_train)\n",
    "print('classi_report : \\n',classi_report)"
   ]
  },
  {
   "cell_type": "code",
   "execution_count": null,
   "id": "5e0618d5",
   "metadata": {},
   "outputs": [],
   "source": [
    "import pickle\n",
    "knn_model_hpp = open(\"knn_model_hpp.pkl\",'wb')\n",
    "pickle.dump(knn_rscv,knn_model_hpp)\n",
    "knn_model_hpp.close()"
   ]
  },
  {
   "cell_type": "code",
   "execution_count": null,
   "id": "501c5aa2",
   "metadata": {},
   "outputs": [],
   "source": []
  }
 ],
 "metadata": {
  "interpreter": {
   "hash": "1b10628991f894d05421ae8aa772af3bf77155b1b351548a30b80fab0360298d"
  },
  "kernelspec": {
   "display_name": "Python 3 (ipykernel)",
   "language": "python",
   "name": "python3"
  },
  "language_info": {
   "codemirror_mode": {
    "name": "ipython",
    "version": 3
   },
   "file_extension": ".py",
   "mimetype": "text/x-python",
   "name": "python",
   "nbconvert_exporter": "python",
   "pygments_lexer": "ipython3",
   "version": "3.10.4"
  }
 },
 "nbformat": 4,
 "nbformat_minor": 5
}
